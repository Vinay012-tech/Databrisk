{
 "cells": [
  {
   "cell_type": "code",
   "execution_count": 0,
   "metadata": {
    "application/vnd.databricks.v1+cell": {
     "cellMetadata": {
      "byteLimit": 2048000,
      "rowLimit": 10000
     },
     "inputWidgets": {},
     "nuid": "11d421c1-f3c1-4f0b-a534-f1eeeb11a89e",
     "showTitle": false,
     "title": ""
    }
   },
   "outputs": [
    {
     "output_type": "display_data",
     "data": {
      "text/html": [
       "<style scoped>\n",
       "  .table-result-container {\n",
       "    max-height: 300px;\n",
       "    overflow: auto;\n",
       "  }\n",
       "  table, th, td {\n",
       "    border: 1px solid black;\n",
       "    border-collapse: collapse;\n",
       "  }\n",
       "  th, td {\n",
       "    padding: 5px;\n",
       "  }\n",
       "  th {\n",
       "    text-align: left;\n",
       "  }\n",
       "</style><div class='table-result-container'><table class='table-result'><thead style='background-color: white'><tr><th>mountPoint</th><th>source</th><th>encryptionType</th></tr></thead><tbody><tr><td>/databricks-datasets</td><td>databricks-datasets</td><td></td></tr><tr><td>/Volumes</td><td>UnityCatalogVolumes</td><td></td></tr><tr><td>/databricks/mlflow-tracking</td><td>databricks/mlflow-tracking</td><td></td></tr><tr><td>/databricks-results</td><td>databricks-results</td><td></td></tr><tr><td>/databricks/mlflow-registry</td><td>databricks/mlflow-registry</td><td></td></tr><tr><td>/Volume</td><td>DbfsReserved</td><td></td></tr><tr><td>/volumes</td><td>DbfsReserved</td><td></td></tr><tr><td>/</td><td>DatabricksRoot</td><td></td></tr><tr><td>/volume</td><td>DbfsReserved</td><td></td></tr></tbody></table></div>"
      ]
     },
     "metadata": {
      "application/vnd.databricks.v1+output": {
       "addedWidgets": {},
       "aggData": [],
       "aggError": "",
       "aggOverflow": false,
       "aggSchema": [],
       "aggSeriesLimitReached": false,
       "aggType": "",
       "arguments": {},
       "columnCustomDisplayInfos": {},
       "data": [
        [
         "/databricks-datasets",
         "databricks-datasets",
         ""
        ],
        [
         "/Volumes",
         "UnityCatalogVolumes",
         ""
        ],
        [
         "/databricks/mlflow-tracking",
         "databricks/mlflow-tracking",
         ""
        ],
        [
         "/databricks-results",
         "databricks-results",
         ""
        ],
        [
         "/databricks/mlflow-registry",
         "databricks/mlflow-registry",
         ""
        ],
        [
         "/Volume",
         "DbfsReserved",
         ""
        ],
        [
         "/volumes",
         "DbfsReserved",
         ""
        ],
        [
         "/",
         "DatabricksRoot",
         ""
        ],
        [
         "/volume",
         "DbfsReserved",
         ""
        ]
       ],
       "datasetInfos": [],
       "dbfsResultPath": null,
       "isJsonSchema": true,
       "metadata": {},
       "overflow": false,
       "plotOptions": {
        "customPlotOptions": {},
        "displayType": "table",
        "pivotAggregation": null,
        "pivotColumns": null,
        "xColumns": null,
        "yColumns": null
       },
       "removedWidgets": [],
       "schema": [
        {
         "metadata": "{}",
         "name": "mountPoint",
         "type": "\"string\""
        },
        {
         "metadata": "{}",
         "name": "source",
         "type": "\"string\""
        },
        {
         "metadata": "{}",
         "name": "encryptionType",
         "type": "\"string\""
        }
       ],
       "type": "table"
      }
     },
     "output_type": "display_data"
    }
   ],
   "source": [
    "display(dbutils.fs.mounts())\n"
   ]
  },
  {
   "cell_type": "code",
   "execution_count": 0,
   "metadata": {
    "application/vnd.databricks.v1+cell": {
     "cellMetadata": {
      "byteLimit": 2048000,
      "rowLimit": 10000
     },
     "inputWidgets": {},
     "nuid": "6d81b342-9cef-4aa7-a7dc-de104213b04d",
     "showTitle": false,
     "title": ""
    }
   },
   "outputs": [
    {
     "output_type": "display_data",
     "data": {
      "text/html": [
       "<style scoped>\n",
       "  .ansiout {\n",
       "    display: block;\n",
       "    unicode-bidi: embed;\n",
       "    white-space: pre-wrap;\n",
       "    word-wrap: break-word;\n",
       "    word-break: break-all;\n",
       "    font-family: \"Menlo\", \"Monaco\", \"Consolas\", \"Ubuntu Mono\", \"Source Code Pro\", monospace;\n",
       "    font-size: 13px;\n",
       "    color: #555;\n",
       "    margin-left: 4px;\n",
       "    line-height: 19px;\n",
       "  }\n",
       "</style>\n",
       "<div class=\"ansiout\">Out[4]: True</div>"
      ]
     },
     "metadata": {
      "application/vnd.databricks.v1+output": {
       "addedWidgets": {},
       "arguments": {},
       "data": "<div class=\"ansiout\">Out[4]: True</div>",
       "datasetInfos": [],
       "metadata": {},
       "removedWidgets": [],
       "type": "html"
      }
     },
     "output_type": "display_data"
    }
   ],
   "source": [
    "dbutils.fs.mount(\n",
    "  source = \"wasbs://assignment2@21784980assignment2.blob.core.windows.net\",\n",
    "  mount_point = \"/mnt/data\",\n",
    "  extra_configs = {\"fs.azure.account.key.21784980assignment2.blob.core.windows.net\":\"k910kGxE8kl2wWaTtjyrd/uSUbHVxYL2/+UhaQ5Eaz8/ySBid5xOWXs4uTJIilygoCLxDqZFlaXZ+ASt26if4A==\"})"
   ]
  },
  {
   "cell_type": "code",
   "execution_count": 0,
   "metadata": {
    "application/vnd.databricks.v1+cell": {
     "cellMetadata": {
      "byteLimit": 2048000,
      "rowLimit": 10000
     },
     "inputWidgets": {},
     "nuid": "27a31c5e-4c49-4098-9e8c-d785ef061874",
     "showTitle": false,
     "title": ""
    }
   },
   "outputs": [
    {
     "output_type": "display_data",
     "data": {
      "text/html": [
       "<style scoped>\n",
       "  .table-result-container {\n",
       "    max-height: 300px;\n",
       "    overflow: auto;\n",
       "  }\n",
       "  table, th, td {\n",
       "    border: 1px solid black;\n",
       "    border-collapse: collapse;\n",
       "  }\n",
       "  th, td {\n",
       "    padding: 5px;\n",
       "  }\n",
       "  th {\n",
       "    text-align: left;\n",
       "  }\n",
       "</style><div class='table-result-container'><table class='table-result'><thead style='background-color: white'><tr><th>mountPoint</th><th>source</th><th>encryptionType</th></tr></thead><tbody><tr><td>/databricks-datasets</td><td>databricks-datasets</td><td></td></tr><tr><td>/Volumes</td><td>UnityCatalogVolumes</td><td></td></tr><tr><td>/databricks/mlflow-tracking</td><td>databricks/mlflow-tracking</td><td></td></tr><tr><td>/databricks-results</td><td>databricks-results</td><td></td></tr><tr><td>/databricks/mlflow-registry</td><td>databricks/mlflow-registry</td><td></td></tr><tr><td>/Volume</td><td>DbfsReserved</td><td></td></tr><tr><td>/volumes</td><td>DbfsReserved</td><td></td></tr><tr><td>/mnt/data</td><td>wasbs://assignment2@21784980assignment2.blob.core.windows.net</td><td></td></tr><tr><td>/</td><td>DatabricksRoot</td><td></td></tr><tr><td>/volume</td><td>DbfsReserved</td><td></td></tr></tbody></table></div>"
      ]
     },
     "metadata": {
      "application/vnd.databricks.v1+output": {
       "addedWidgets": {},
       "aggData": [],
       "aggError": "",
       "aggOverflow": false,
       "aggSchema": [],
       "aggSeriesLimitReached": false,
       "aggType": "",
       "arguments": {},
       "columnCustomDisplayInfos": {},
       "data": [
        [
         "/databricks-datasets",
         "databricks-datasets",
         ""
        ],
        [
         "/Volumes",
         "UnityCatalogVolumes",
         ""
        ],
        [
         "/databricks/mlflow-tracking",
         "databricks/mlflow-tracking",
         ""
        ],
        [
         "/databricks-results",
         "databricks-results",
         ""
        ],
        [
         "/databricks/mlflow-registry",
         "databricks/mlflow-registry",
         ""
        ],
        [
         "/Volume",
         "DbfsReserved",
         ""
        ],
        [
         "/volumes",
         "DbfsReserved",
         ""
        ],
        [
         "/mnt/data",
         "wasbs://assignment2@21784980assignment2.blob.core.windows.net",
         ""
        ],
        [
         "/",
         "DatabricksRoot",
         ""
        ],
        [
         "/volume",
         "DbfsReserved",
         ""
        ]
       ],
       "datasetInfos": [],
       "dbfsResultPath": null,
       "isJsonSchema": true,
       "metadata": {},
       "overflow": false,
       "plotOptions": {
        "customPlotOptions": {},
        "displayType": "table",
        "pivotAggregation": null,
        "pivotColumns": null,
        "xColumns": null,
        "yColumns": null
       },
       "removedWidgets": [],
       "schema": [
        {
         "metadata": "{}",
         "name": "mountPoint",
         "type": "\"string\""
        },
        {
         "metadata": "{}",
         "name": "source",
         "type": "\"string\""
        },
        {
         "metadata": "{}",
         "name": "encryptionType",
         "type": "\"string\""
        }
       ],
       "type": "table"
      }
     },
     "output_type": "display_data"
    }
   ],
   "source": [
    "display(dbutils.fs.mounts())\n"
   ]
  },
  {
   "cell_type": "code",
   "execution_count": 0,
   "metadata": {
    "application/vnd.databricks.v1+cell": {
     "cellMetadata": {
      "byteLimit": 2048000,
      "rowLimit": 10000
     },
     "inputWidgets": {},
     "nuid": "067f9b84-523d-4738-8e1c-ca7d63db0dd3",
     "showTitle": false,
     "title": ""
    }
   },
   "outputs": [
    {
     "output_type": "display_data",
     "data": {
      "text/html": [
       "<style scoped>\n",
       "  .ansiout {\n",
       "    display: block;\n",
       "    unicode-bidi: embed;\n",
       "    white-space: pre-wrap;\n",
       "    word-wrap: break-word;\n",
       "    word-break: break-all;\n",
       "    font-family: \"Menlo\", \"Monaco\", \"Consolas\", \"Ubuntu Mono\", \"Source Code Pro\", monospace;\n",
       "    font-size: 13px;\n",
       "    color: #555;\n",
       "    margin-left: 4px;\n",
       "    line-height: 19px;\n",
       "  }\n",
       "</style>\n",
       "<div class=\"ansiout\">+---------+-------------------+-------------+-----------------+-----+----+\n",
       "sensor_id|          timestamp|     location|air_quality_index|pm2_5|pm10|\n",
       "+---------+-------------------+-------------+-----------------+-----+----+\n",
       "      AQ1|2024-09-01 00:00:00|Melbourne CBD|               45| 10.5|25.0|\n",
       "      AQ2|2024-09-01 01:00:00|      Fitzroy|               65| 18.0|35.5|\n",
       "      AQ3|2024-09-01 02:00:00|    Docklands|               58| 15.3|30.2|\n",
       "      AQ4|2024-09-01 03:00:00|     St Kilda|               72| 20.1|40.0|\n",
       "      AQ5|2024-09-01 04:00:00|    Footscray|               90| 25.0|50.1|\n",
       "+---------+-------------------+-------------+-----------------+-----+----+\n",
       "\n",
       "</div>"
      ]
     },
     "metadata": {
      "application/vnd.databricks.v1+output": {
       "addedWidgets": {},
       "arguments": {},
       "data": "<div class=\"ansiout\">+---------+-------------------+-------------+-----------------+-----+----+\n|sensor_id|          timestamp|     location|air_quality_index|pm2_5|pm10|\n+---------+-------------------+-------------+-----------------+-----+----+\n|      AQ1|2024-09-01 00:00:00|Melbourne CBD|               45| 10.5|25.0|\n|      AQ2|2024-09-01 01:00:00|      Fitzroy|               65| 18.0|35.5|\n|      AQ3|2024-09-01 02:00:00|    Docklands|               58| 15.3|30.2|\n|      AQ4|2024-09-01 03:00:00|     St Kilda|               72| 20.1|40.0|\n|      AQ5|2024-09-01 04:00:00|    Footscray|               90| 25.0|50.1|\n+---------+-------------------+-------------+-----------------+-----+----+\n\n</div>",
       "datasetInfos": [],
       "metadata": {},
       "removedWidgets": [],
       "type": "html"
      }
     },
     "output_type": "display_data"
    }
   ],
   "source": [
    "df_air_quality = spark.read.format(\"csv\").option(\"header\", \"true\").load(\"/mnt/data/Melbourne_Air_Quality_Data.csv\")\n",
    "df_air_quality.show(5)\n"
   ]
  },
  {
   "cell_type": "code",
   "execution_count": 0,
   "metadata": {
    "application/vnd.databricks.v1+cell": {
     "cellMetadata": {
      "byteLimit": 2048000,
      "rowLimit": 10000
     },
     "inputWidgets": {},
     "nuid": "5861e815-e8b7-4545-aaf1-d279a4b48e3b",
     "showTitle": false,
     "title": ""
    }
   },
   "outputs": [
    {
     "output_type": "display_data",
     "data": {
      "text/html": [
       "<style scoped>\n",
       "  .ansiout {\n",
       "    display: block;\n",
       "    unicode-bidi: embed;\n",
       "    white-space: pre-wrap;\n",
       "    word-wrap: break-word;\n",
       "    word-break: break-all;\n",
       "    font-family: \"Menlo\", \"Monaco\", \"Consolas\", \"Ubuntu Mono\", \"Source Code Pro\", monospace;\n",
       "    font-size: 13px;\n",
       "    color: #555;\n",
       "    margin-left: 4px;\n",
       "    line-height: 19px;\n",
       "  }\n",
       "</style>\n",
       "<div class=\"ansiout\">+---------+-------------------+-----------------+-------------+-------------+\n",
       "sensor_id|          timestamp|         location|vehicle_count|avg_speed_kmh|\n",
       "+---------+-------------------+-----------------+-------------+-------------+\n",
       "       T1|2024-09-01 00:00:00|  Eastern Freeway|         1000|           80|\n",
       "       T2|2024-09-01 01:00:00|    Melbourne CBD|          800|           30|\n",
       "       T3|2024-09-01 02:00:00|West Gate Freeway|         1200|           60|\n",
       "       T4|2024-09-01 03:00:00|    St Kilda Road|          600|           50|\n",
       "       T5|2024-09-01 04:00:00|   Monash Freeway|         1500|           70|\n",
       "+---------+-------------------+-----------------+-------------+-------------+\n",
       "\n",
       "+---------+-------------------+--------------------+-------------------+------------+\n",
       "sensor_id|          timestamp|            location|energy_consumed_kwh|peak_load_mw|\n",
       "+---------+-------------------+--------------------+-------------------+------------+\n",
       "       E1|2024-09-01 00:00:00|Residential - Sou...|                200|          12|\n",
       "       E2|2024-09-01 01:00:00|Commercial - Melb...|               1000|          35|\n",
       "       E3|2024-09-01 02:00:00|Industrial - Lave...|               1200|          50|\n",
       "       E4|2024-09-01 03:00:00|            Richmond|                500|          20|\n",
       "       E5|2024-09-01 04:00:00|            Essendon|                600|          25|\n",
       "+---------+-------------------+--------------------+-------------------+------------+\n",
       "\n",
       "</div>"
      ]
     },
     "metadata": {
      "application/vnd.databricks.v1+output": {
       "addedWidgets": {},
       "arguments": {},
       "data": "<div class=\"ansiout\">+---------+-------------------+-----------------+-------------+-------------+\n|sensor_id|          timestamp|         location|vehicle_count|avg_speed_kmh|\n+---------+-------------------+-----------------+-------------+-------------+\n|       T1|2024-09-01 00:00:00|  Eastern Freeway|         1000|           80|\n|       T2|2024-09-01 01:00:00|    Melbourne CBD|          800|           30|\n|       T3|2024-09-01 02:00:00|West Gate Freeway|         1200|           60|\n|       T4|2024-09-01 03:00:00|    St Kilda Road|          600|           50|\n|       T5|2024-09-01 04:00:00|   Monash Freeway|         1500|           70|\n+---------+-------------------+-----------------+-------------+-------------+\n\n+---------+-------------------+--------------------+-------------------+------------+\n|sensor_id|          timestamp|            location|energy_consumed_kwh|peak_load_mw|\n+---------+-------------------+--------------------+-------------------+------------+\n|       E1|2024-09-01 00:00:00|Residential - Sou...|                200|          12|\n|       E2|2024-09-01 01:00:00|Commercial - Melb...|               1000|          35|\n|       E3|2024-09-01 02:00:00|Industrial - Lave...|               1200|          50|\n|       E4|2024-09-01 03:00:00|            Richmond|                500|          20|\n|       E5|2024-09-01 04:00:00|            Essendon|                600|          25|\n+---------+-------------------+--------------------+-------------------+------------+\n\n</div>",
       "datasetInfos": [],
       "metadata": {},
       "removedWidgets": [],
       "type": "html"
      }
     },
     "output_type": "display_data"
    }
   ],
   "source": [
    "df_traffic = spark.read.format(\"csv\").option(\"header\", \"true\").load(\"/mnt/data/Melbourne_Traffic_Data.csv\")\n",
    "df_energy = spark.read.format(\"csv\").option(\"header\", \"true\").load(\"/mnt/data/Melbourne_Energy_Consumption_Data.csv\")\n",
    "\n",
    "df_traffic.show(5)\n",
    "df_energy.show(5)\n"
   ]
  },
  {
   "cell_type": "code",
   "execution_count": 0,
   "metadata": {
    "application/vnd.databricks.v1+cell": {
     "cellMetadata": {
      "byteLimit": 2048000,
      "rowLimit": 10000
     },
     "inputWidgets": {},
     "nuid": "f9a6f69b-0b90-4d57-a721-7ccc7727cf4b",
     "showTitle": false,
     "title": ""
    }
   },
   "outputs": [
    {
     "output_type": "display_data",
     "data": {
      "text/html": [
       "<style scoped>\n",
       "  .ansiout {\n",
       "    display: block;\n",
       "    unicode-bidi: embed;\n",
       "    white-space: pre-wrap;\n",
       "    word-wrap: break-word;\n",
       "    word-break: break-all;\n",
       "    font-family: \"Menlo\", \"Monaco\", \"Consolas\", \"Ubuntu Mono\", \"Source Code Pro\", monospace;\n",
       "    font-size: 13px;\n",
       "    color: #555;\n",
       "    margin-left: 4px;\n",
       "    line-height: 19px;\n",
       "  }\n",
       "</style>\n",
       "<div class=\"ansiout\">+---------+-------------------+-------------+-----------------+-----+----+\n",
       "sensor_id|          timestamp|     location|air_quality_index|pm2_5|pm10|\n",
       "+---------+-------------------+-------------+-----------------+-----+----+\n",
       "      AQ1|2024-09-01 00:00:00|Melbourne CBD|               45| 10.5|25.0|\n",
       "      AQ2|2024-09-01 01:00:00|      Fitzroy|               65| 18.0|35.5|\n",
       "      AQ3|2024-09-01 02:00:00|    Docklands|               58| 15.3|30.2|\n",
       "      AQ4|2024-09-01 03:00:00|     St Kilda|               72| 20.1|40.0|\n",
       "      AQ5|2024-09-01 04:00:00|    Footscray|               90| 25.0|50.1|\n",
       "+---------+-------------------+-------------+-----------------+-----+----+\n",
       "\n",
       "+---------+-------------------+-----------------+-------------+-------------+\n",
       "sensor_id|          timestamp|         location|vehicle_count|avg_speed_kmh|\n",
       "+---------+-------------------+-----------------+-------------+-------------+\n",
       "       T1|2024-09-01 00:00:00|  Eastern Freeway|         1000|           80|\n",
       "       T2|2024-09-01 01:00:00|    Melbourne CBD|          800|           30|\n",
       "       T3|2024-09-01 02:00:00|West Gate Freeway|         1200|           60|\n",
       "       T4|2024-09-01 03:00:00|    St Kilda Road|          600|           50|\n",
       "       T5|2024-09-01 04:00:00|   Monash Freeway|         1500|           70|\n",
       "+---------+-------------------+-----------------+-------------+-------------+\n",
       "\n",
       "+---------+-------------------+--------------------+-------------------+------------+\n",
       "sensor_id|          timestamp|            location|energy_consumed_kwh|peak_load_mw|\n",
       "+---------+-------------------+--------------------+-------------------+------------+\n",
       "       E1|2024-09-01 00:00:00|Residential - Sou...|                200|          12|\n",
       "       E2|2024-09-01 01:00:00|Commercial - Melb...|               1000|          35|\n",
       "       E3|2024-09-01 02:00:00|Industrial - Lave...|               1200|          50|\n",
       "       E4|2024-09-01 03:00:00|            Richmond|                500|          20|\n",
       "       E5|2024-09-01 04:00:00|            Essendon|                600|          25|\n",
       "+---------+-------------------+--------------------+-------------------+------------+\n",
       "\n",
       "</div>"
      ]
     },
     "metadata": {
      "application/vnd.databricks.v1+output": {
       "addedWidgets": {},
       "arguments": {},
       "data": "<div class=\"ansiout\">+---------+-------------------+-------------+-----------------+-----+----+\n|sensor_id|          timestamp|     location|air_quality_index|pm2_5|pm10|\n+---------+-------------------+-------------+-----------------+-----+----+\n|      AQ1|2024-09-01 00:00:00|Melbourne CBD|               45| 10.5|25.0|\n|      AQ2|2024-09-01 01:00:00|      Fitzroy|               65| 18.0|35.5|\n|      AQ3|2024-09-01 02:00:00|    Docklands|               58| 15.3|30.2|\n|      AQ4|2024-09-01 03:00:00|     St Kilda|               72| 20.1|40.0|\n|      AQ5|2024-09-01 04:00:00|    Footscray|               90| 25.0|50.1|\n+---------+-------------------+-------------+-----------------+-----+----+\n\n+---------+-------------------+-----------------+-------------+-------------+\n|sensor_id|          timestamp|         location|vehicle_count|avg_speed_kmh|\n+---------+-------------------+-----------------+-------------+-------------+\n|       T1|2024-09-01 00:00:00|  Eastern Freeway|         1000|           80|\n|       T2|2024-09-01 01:00:00|    Melbourne CBD|          800|           30|\n|       T3|2024-09-01 02:00:00|West Gate Freeway|         1200|           60|\n|       T4|2024-09-01 03:00:00|    St Kilda Road|          600|           50|\n|       T5|2024-09-01 04:00:00|   Monash Freeway|         1500|           70|\n+---------+-------------------+-----------------+-------------+-------------+\n\n+---------+-------------------+--------------------+-------------------+------------+\n|sensor_id|          timestamp|            location|energy_consumed_kwh|peak_load_mw|\n+---------+-------------------+--------------------+-------------------+------------+\n|       E1|2024-09-01 00:00:00|Residential - Sou...|                200|          12|\n|       E2|2024-09-01 01:00:00|Commercial - Melb...|               1000|          35|\n|       E3|2024-09-01 02:00:00|Industrial - Lave...|               1200|          50|\n|       E4|2024-09-01 03:00:00|            Richmond|                500|          20|\n|       E5|2024-09-01 04:00:00|            Essendon|                600|          25|\n+---------+-------------------+--------------------+-------------------+------------+\n\n</div>",
       "datasetInfos": [],
       "metadata": {},
       "removedWidgets": [],
       "type": "html"
      }
     },
     "output_type": "display_data"
    }
   ],
   "source": [
    "# Check if data is loaded correctly\n",
    "df_air_quality.show(5)\n",
    "df_traffic.show(5)\n",
    "df_energy.show(5)\n"
   ]
  },
  {
   "cell_type": "code",
   "execution_count": 0,
   "metadata": {
    "application/vnd.databricks.v1+cell": {
     "cellMetadata": {
      "byteLimit": 2048000,
      "rowLimit": 10000
     },
     "inputWidgets": {},
     "nuid": "27a31de8-ec7e-4f57-8b61-a338c2849258",
     "showTitle": false,
     "title": ""
    }
   },
   "outputs": [
    {
     "output_type": "display_data",
     "data": {
      "text/html": [
       "<style scoped>\n",
       "  .ansiout {\n",
       "    display: block;\n",
       "    unicode-bidi: embed;\n",
       "    white-space: pre-wrap;\n",
       "    word-wrap: break-word;\n",
       "    word-break: break-all;\n",
       "    font-family: \"Menlo\", \"Monaco\", \"Consolas\", \"Ubuntu Mono\", \"Source Code Pro\", monospace;\n",
       "    font-size: 13px;\n",
       "    color: #555;\n",
       "    margin-left: 4px;\n",
       "    line-height: 19px;\n",
       "  }\n",
       "</style>\n",
       "<div class=\"ansiout\"></div>"
      ]
     },
     "metadata": {
      "application/vnd.databricks.v1+output": {
       "addedWidgets": {},
       "arguments": {},
       "data": "<div class=\"ansiout\"></div>",
       "datasetInfos": [],
       "metadata": {},
       "removedWidgets": [],
       "type": "html"
      }
     },
     "output_type": "display_data"
    }
   ],
   "source": [
    "from pyspark.sql.functions import regexp_replace, trim\n",
    "\n",
    "# Standardize location names\n",
    "# For example, remove extra descriptors like 'Residential', 'Commercial', etc.\n",
    "\n",
    "# Air Quality Dataset\n",
    "df_air_quality = df_air_quality.withColumn(\"location\", trim(df_air_quality.location))\n",
    "\n",
    "# Traffic Dataset\n",
    "df_traffic = df_traffic.withColumn(\"location\", trim(df_traffic.location))\n",
    "\n",
    "# Energy Dataset: Standardize by removing 'Residential - ', 'Commercial - ', etc.\n",
    "df_energy = df_energy.withColumn(\"location\", regexp_replace(\"location\", \"Residential - \", \"\"))\n",
    "df_energy = df_energy.withColumn(\"location\", regexp_replace(\"location\", \"Commercial - \", \"\"))\n",
    "df_energy = df_energy.withColumn(\"location\", regexp_replace(\"location\", \"Industrial - \", \"\"))\n",
    "df_energy = df_energy.withColumn(\"location\", trim(df_energy.location))\n",
    "\n",
    "# Now the locations will be more standardized across datasets\n"
   ]
  },
  {
   "cell_type": "code",
   "execution_count": 0,
   "metadata": {
    "application/vnd.databricks.v1+cell": {
     "cellMetadata": {
      "byteLimit": 2048000,
      "rowLimit": 10000
     },
     "inputWidgets": {},
     "nuid": "121ecf90-b183-43e2-900e-ddcc2aa74613",
     "showTitle": false,
     "title": ""
    }
   },
   "outputs": [
    {
     "output_type": "display_data",
     "data": {
      "text/html": [
       "<style scoped>\n",
       "  .ansiout {\n",
       "    display: block;\n",
       "    unicode-bidi: embed;\n",
       "    white-space: pre-wrap;\n",
       "    word-wrap: break-word;\n",
       "    word-break: break-all;\n",
       "    font-family: \"Menlo\", \"Monaco\", \"Consolas\", \"Ubuntu Mono\", \"Source Code Pro\", monospace;\n",
       "    font-size: 13px;\n",
       "    color: #555;\n",
       "    margin-left: 4px;\n",
       "    line-height: 19px;\n",
       "  }\n",
       "</style>\n",
       "<div class=\"ansiout\">+-------------+---------------------+\n",
       "     location|avg_air_quality_index|\n",
       "+-------------+---------------------+\n",
       "    Docklands|                 58.0|\n",
       "     St Kilda|                 72.0|\n",
       "      Fitzroy|                 65.0|\n",
       "Melbourne CBD|                 45.0|\n",
       "    Footscray|                 90.0|\n",
       "+-------------+---------------------+\n",
       "\n",
       "+-----------------+-------------------+\n",
       "         location|total_vehicle_count|\n",
       "+-----------------+-------------------+\n",
       "    St Kilda Road|              600.0|\n",
       "West Gate Freeway|             1200.0|\n",
       "  Eastern Freeway|             1000.0|\n",
       "   Monash Freeway|             1500.0|\n",
       "    Melbourne CBD|              800.0|\n",
       "+-----------------+-------------------+\n",
       "\n",
       "+-------------+-------------------------+\n",
       "     location|total_energy_consumed_kwh|\n",
       "+-------------+-------------------------+\n",
       "     Laverton|                   1200.0|\n",
       "Melbourne CBD|                   1000.0|\n",
       "     Essendon|                    600.0|\n",
       "     Richmond|                    500.0|\n",
       "  South Yarra|                    200.0|\n",
       "+-------------+-------------------------+\n",
       "\n",
       "</div>"
      ]
     },
     "metadata": {
      "application/vnd.databricks.v1+output": {
       "addedWidgets": {},
       "arguments": {},
       "data": "<div class=\"ansiout\">+-------------+---------------------+\n|     location|avg_air_quality_index|\n+-------------+---------------------+\n|    Docklands|                 58.0|\n|     St Kilda|                 72.0|\n|      Fitzroy|                 65.0|\n|Melbourne CBD|                 45.0|\n|    Footscray|                 90.0|\n+-------------+---------------------+\n\n+-----------------+-------------------+\n|         location|total_vehicle_count|\n+-----------------+-------------------+\n|    St Kilda Road|              600.0|\n|West Gate Freeway|             1200.0|\n|  Eastern Freeway|             1000.0|\n|   Monash Freeway|             1500.0|\n|    Melbourne CBD|              800.0|\n+-----------------+-------------------+\n\n+-------------+-------------------------+\n|     location|total_energy_consumed_kwh|\n+-------------+-------------------------+\n|     Laverton|                   1200.0|\n|Melbourne CBD|                   1000.0|\n|     Essendon|                    600.0|\n|     Richmond|                    500.0|\n|  South Yarra|                    200.0|\n+-------------+-------------------------+\n\n</div>",
       "datasetInfos": [],
       "metadata": {},
       "removedWidgets": [],
       "type": "html"
      }
     },
     "output_type": "display_data"
    }
   ],
   "source": [
    "# 1. Calculate average air quality index per region\n",
    "avg_air_quality = df_air_quality.groupBy(\"location\").agg({\"air_quality_index\": \"avg\"}).withColumnRenamed(\"avg(air_quality_index)\", \"avg_air_quality_index\")\n",
    "\n",
    "# 2. Calculate total traffic density (sum of vehicle counts) per region\n",
    "traffic_density = df_traffic.groupBy(\"location\").agg({\"vehicle_count\": \"sum\"}).withColumnRenamed(\"sum(vehicle_count)\", \"total_vehicle_count\")\n",
    "\n",
    "# 3. Calculate total energy consumption per region\n",
    "total_energy_consumption = df_energy.groupBy(\"location\").agg({\"energy_consumed_kwh\": \"sum\"}).withColumnRenamed(\"sum(energy_consumed_kwh)\", \"total_energy_consumed_kwh\")\n",
    "\n",
    "avg_air_quality.show()\n",
    "traffic_density.show()\n",
    "total_energy_consumption.show()"
   ]
  },
  {
   "cell_type": "markdown",
   "metadata": {
    "application/vnd.databricks.v1+cell": {
     "cellMetadata": {},
     "inputWidgets": {},
     "nuid": "cd6a8f55-062f-4d2e-88bf-c330a1656608",
     "showTitle": false,
     "title": ""
    }
   },
   "source": [
    "Transfer to cosmos DB"
   ]
  },
  {
   "cell_type": "code",
   "execution_count": 0,
   "metadata": {
    "application/vnd.databricks.v1+cell": {
     "cellMetadata": {
      "byteLimit": 2048000,
      "rowLimit": 10000
     },
     "inputWidgets": {},
     "nuid": "d25e844a-8fb7-4114-bf2c-e6adc351dec2",
     "showTitle": false,
     "title": ""
    }
   },
   "outputs": [
    {
     "output_type": "display_data",
     "data": {
      "text/html": [
       "<style scoped>\n",
       "  .ansiout {\n",
       "    display: block;\n",
       "    unicode-bidi: embed;\n",
       "    white-space: pre-wrap;\n",
       "    word-wrap: break-word;\n",
       "    word-break: break-all;\n",
       "    font-family: \"Menlo\", \"Monaco\", \"Consolas\", \"Ubuntu Mono\", \"Source Code Pro\", monospace;\n",
       "    font-size: 13px;\n",
       "    color: #555;\n",
       "    margin-left: 4px;\n",
       "    line-height: 19px;\n",
       "  }\n",
       "</style>\n",
       "<div class=\"ansiout\"></div>"
      ]
     },
     "metadata": {
      "application/vnd.databricks.v1+output": {
       "addedWidgets": {},
       "arguments": {},
       "data": "<div class=\"ansiout\"></div>",
       "datasetInfos": [],
       "metadata": {},
       "removedWidgets": [],
       "type": "html"
      }
     },
     "output_type": "display_data"
    }
   ],
   "source": [
    "# Set Cosmos DB connection details\n",
    "cosmos_endpoint = \"https://21784980assignmetn2.documents.azure.com:443/\"\n",
    "cosmos_master_key = \"qbZhmeclbj4D3kZ0xyIYHfPEtoD618Qw2gFoVmO5B1345OPCq2MvKrztZ9bC0jQT9UB7Ss8raUmMACDbjZ9cGg==\"\n",
    "cosmos_database_name = \"ToDoList\"\n",
    "cosmos_container_name = \"21784980assignmetn2\"\n",
    "\n",
    "# Set the Spark configuration to access Cosmos DB\n",
    "spark.conf.set(\"spark.cosmos.accountEndpoint\", cosmos_endpoint)\n",
    "spark.conf.set(\"spark.cosmos.accountKey\", cosmos_master_key)\n",
    "spark.conf.set(\"spark.cosmos.database\", cosmos_database_name)\n",
    "spark.conf.set(\"spark.cosmos.container\", cosmos_container_name)\n"
   ]
  },
  {
   "cell_type": "code",
   "execution_count": 0,
   "metadata": {
    "application/vnd.databricks.v1+cell": {
     "cellMetadata": {
      "byteLimit": 2048000,
      "rowLimit": 10000
     },
     "inputWidgets": {},
     "nuid": "26a6e6da-7909-4f38-b4e9-c0ef3e1ccfee",
     "showTitle": false,
     "title": ""
    }
   },
   "outputs": [
    {
     "output_type": "display_data",
     "data": {
      "text/html": [
       "<style scoped>\n",
       "  .ansiout {\n",
       "    display: block;\n",
       "    unicode-bidi: embed;\n",
       "    white-space: pre-wrap;\n",
       "    word-wrap: break-word;\n",
       "    word-break: break-all;\n",
       "    font-family: \"Menlo\", \"Monaco\", \"Consolas\", \"Ubuntu Mono\", \"Source Code Pro\", monospace;\n",
       "    font-size: 13px;\n",
       "    color: #555;\n",
       "    margin-left: 4px;\n",
       "    line-height: 19px;\n",
       "  }\n",
       "</style>\n",
       "<div class=\"ansiout\"></div>"
      ]
     },
     "metadata": {
      "application/vnd.databricks.v1+output": {
       "addedWidgets": {},
       "arguments": {},
       "data": "<div class=\"ansiout\"></div>",
       "datasetInfos": [],
       "metadata": {},
       "removedWidgets": [],
       "type": "html"
      }
     },
     "output_type": "display_data"
    }
   ],
   "source": [
    "from pyspark.sql.functions import col, concat, lit, expr\n",
    "import uuid\n",
    "avg_air_quality = avg_air_quality.withColumn(\"id\", expr(\"uuid()\"))\n",
    "# Writing structured data (summary_metrics) to Cosmos DB\n",
    "avg_air_quality.write.format(\"cosmos.oltp\").mode(\"append\").options(\n",
    "    **{\n",
    "        \"spark.cosmos.accountEndpoint\": cosmos_endpoint,\n",
    "        \"spark.cosmos.accountKey\": cosmos_master_key,\n",
    "        \"spark.cosmos.database\": cosmos_database_name,\n",
    "        \"spark.cosmos.container\": cosmos_container_name\n",
    "    }\n",
    ").save()\n",
    "\n"
   ]
  },
  {
   "cell_type": "code",
   "execution_count": 0,
   "metadata": {
    "application/vnd.databricks.v1+cell": {
     "cellMetadata": {
      "byteLimit": 2048000,
      "rowLimit": 10000
     },
     "inputWidgets": {},
     "nuid": "13fe8651-c440-45a6-9dfd-b7982cdd0db7",
     "showTitle": false,
     "title": ""
    }
   },
   "outputs": [
    {
     "output_type": "display_data",
     "data": {
      "text/html": [
       "<style scoped>\n",
       "  .ansiout {\n",
       "    display: block;\n",
       "    unicode-bidi: embed;\n",
       "    white-space: pre-wrap;\n",
       "    word-wrap: break-word;\n",
       "    word-break: break-all;\n",
       "    font-family: \"Menlo\", \"Monaco\", \"Consolas\", \"Ubuntu Mono\", \"Source Code Pro\", monospace;\n",
       "    font-size: 13px;\n",
       "    color: #555;\n",
       "    margin-left: 4px;\n",
       "    line-height: 19px;\n",
       "  }\n",
       "</style>\n",
       "<div class=\"ansiout\"></div>"
      ]
     },
     "metadata": {
      "application/vnd.databricks.v1+output": {
       "addedWidgets": {},
       "arguments": {},
       "data": "<div class=\"ansiout\"></div>",
       "datasetInfos": [],
       "metadata": {},
       "removedWidgets": [],
       "type": "html"
      }
     },
     "output_type": "display_data"
    }
   ],
   "source": [
    "traffic_density = traffic_density.withColumn(\"id\", expr(\"uuid()\"))\n",
    "# Writing structured data (summary_metrics) to Cosmos DB\n",
    "traffic_density.write.format(\"cosmos.oltp\").mode(\"append\").options(\n",
    "    **{\n",
    "        \"spark.cosmos.accountEndpoint\": cosmos_endpoint,\n",
    "        \"spark.cosmos.accountKey\": cosmos_master_key,\n",
    "        \"spark.cosmos.database\": cosmos_database_name,\n",
    "        \"spark.cosmos.container\": cosmos_container_name\n",
    "    }\n",
    ").save()\n"
   ]
  },
  {
   "cell_type": "code",
   "execution_count": 0,
   "metadata": {
    "application/vnd.databricks.v1+cell": {
     "cellMetadata": {
      "byteLimit": 2048000,
      "rowLimit": 10000
     },
     "inputWidgets": {},
     "nuid": "35a05dab-fc26-4b6d-ac9f-1a42ff8a7f6e",
     "showTitle": false,
     "title": ""
    }
   },
   "outputs": [
    {
     "output_type": "display_data",
     "data": {
      "text/html": [
       "<style scoped>\n",
       "  .ansiout {\n",
       "    display: block;\n",
       "    unicode-bidi: embed;\n",
       "    white-space: pre-wrap;\n",
       "    word-wrap: break-word;\n",
       "    word-break: break-all;\n",
       "    font-family: \"Menlo\", \"Monaco\", \"Consolas\", \"Ubuntu Mono\", \"Source Code Pro\", monospace;\n",
       "    font-size: 13px;\n",
       "    color: #555;\n",
       "    margin-left: 4px;\n",
       "    line-height: 19px;\n",
       "  }\n",
       "</style>\n",
       "<div class=\"ansiout\"></div>"
      ]
     },
     "metadata": {
      "application/vnd.databricks.v1+output": {
       "addedWidgets": {},
       "arguments": {},
       "data": "<div class=\"ansiout\"></div>",
       "datasetInfos": [],
       "metadata": {},
       "removedWidgets": [],
       "type": "html"
      }
     },
     "output_type": "display_data"
    }
   ],
   "source": [
    "total_energy_consumption = total_energy_consumption.withColumn(\"id\", expr(\"uuid()\"))\n",
    "# Writing structured data (summary_metrics) to Cosmos DB\n",
    "total_energy_consumption.write.format(\"cosmos.oltp\").mode(\"append\").options(\n",
    "    **{\n",
    "        \"spark.cosmos.accountEndpoint\": cosmos_endpoint,\n",
    "        \"spark.cosmos.accountKey\": cosmos_master_key,\n",
    "        \"spark.cosmos.database\": cosmos_database_name,\n",
    "        \"spark.cosmos.container\": cosmos_container_name\n",
    "    }\n",
    ").save()\n"
   ]
  }
 ],
 "metadata": {
  "application/vnd.databricks.v1+notebook": {
   "dashboards": [],
   "environmentMetadata": null,
   "language": "python",
   "notebookMetadata": {
    "pythonIndentUnit": 4
   },
   "notebookName": "assignment 2",
   "widgets": {}
  }
 },
 "nbformat": 4,
 "nbformat_minor": 0
}
